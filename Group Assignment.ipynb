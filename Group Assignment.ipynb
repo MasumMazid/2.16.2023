{
 "cells": [
  {
   "cell_type": "markdown",
   "id": "fc377691",
   "metadata": {},
   "source": [
    "1.Write a string index that returns just the letter 'r'  from 'Hello World' ."
   ]
  },
  {
   "cell_type": "code",
   "execution_count": 4,
   "id": "1e0ebfcc",
   "metadata": {},
   "outputs": [
    {
     "data": {
      "text/plain": [
       "'r'"
      ]
     },
     "execution_count": 4,
     "metadata": {},
     "output_type": "execute_result"
    }
   ],
   "source": [
    "a1=\"Hello World\"\n",
    "\n",
    "def print1():\n",
    "    return (a1[8])\n",
    "print1()    "
   ]
  },
  {
   "cell_type": "markdown",
   "id": "063256ef",
   "metadata": {},
   "source": [
    "2.Use string slicing to grab the word 'ink'  from inside 'tinker‘\n"
   ]
  },
  {
   "cell_type": "code",
   "execution_count": 11,
   "id": "8e167490",
   "metadata": {},
   "outputs": [
    {
     "data": {
      "text/plain": [
       "'ink'"
      ]
     },
     "execution_count": 11,
     "metadata": {},
     "output_type": "execute_result"
    }
   ],
   "source": [
    "a2=\"tinker\"\n",
    "def print2():\n",
    "    return (a2[1:4])\n",
    "print2()    "
   ]
  },
  {
   "cell_type": "markdown",
   "id": "88b67a2d",
   "metadata": {},
   "source": [
    "3.Write an expression using any of the string formatting methods we have \n",
    "learned to return the phrase 'Python rules!‘"
   ]
  },
  {
   "cell_type": "code",
   "execution_count": 16,
   "id": "ac132f30",
   "metadata": {},
   "outputs": [
    {
     "name": "stdout",
     "output_type": "stream",
     "text": [
      "Python rules!\n"
     ]
    }
   ],
   "source": [
    "a3 = \"{Java}{sucks}\"\n",
    "print(a3.format(Java = \"Python \",sucks= \"rules!\"))"
   ]
  },
  {
   "cell_type": "markdown",
   "id": "9a8efa8b",
   "metadata": {},
   "source": [
    "4.Create a list that contains at least one string, one integer and one float."
   ]
  },
  {
   "cell_type": "code",
   "execution_count": 23,
   "id": "58010a27",
   "metadata": {},
   "outputs": [
    {
     "name": "stdout",
     "output_type": "stream",
     "text": [
      "['1.755', 1.755, 1]\n"
     ]
    }
   ],
   "source": [
    "oneString=\"1.755\"\n",
    "oneFloat=float(oneString)\n",
    "oneInt=int(oneFloat)\n",
    "a4=[oneString,oneFloat,oneInt]\n",
    "print(a4)"
   ]
  },
  {
   "cell_type": "markdown",
   "id": "622a2506",
   "metadata": {},
   "source": [
    "5.Create a dictionary where all the keys are strings, and all the values are integers."
   ]
  },
  {
   "cell_type": "code",
   "execution_count": 29,
   "id": "f9351bd0",
   "metadata": {},
   "outputs": [
    {
     "name": "stdout",
     "output_type": "stream",
     "text": [
      "{'eh': 21, 'Can you do something for me?': 21, '21': 21}\n"
     ]
    }
   ],
   "source": [
    "A_Dictionary_Where_All_The_Keys_Are_Strings_Season_2={\"eh\":21,\"Can you do something for me?\":21,\"21\":21}\n",
    "print(A_Dictionary_Where_All_The_Keys_Are_Strings_Season_2)"
   ]
  },
  {
   "cell_type": "markdown",
   "id": "6b6b6c17",
   "metadata": {},
   "source": [
    "5.Write an expression that would turn the string 'Mississippi'  into a set of unique letters."
   ]
  },
  {
   "cell_type": "code",
   "execution_count": 40,
   "id": "89a3792a",
   "metadata": {},
   "outputs": [
    {
     "name": "stdout",
     "output_type": "stream",
     "text": [
      "psiM\n"
     ]
    }
   ],
   "source": [
    "a6=\"Mississippi\"\n",
    "a6Set={\"\"}\n",
    "for n,letter in enumerate(a6):\n",
    "    a6Set.add(letter)\n",
    "    a6String=''.join(a6Set)\n",
    "print(a6String)\n",
    "    "
   ]
  },
  {
   "cell_type": "markdown",
   "id": "3d4fd45a",
   "metadata": {},
   "source": [
    "6.Write a script that opens a file named 'test.txt' , writes 'Hello World'  to the file, then closes it.\n"
   ]
  },
  {
   "cell_type": "code",
   "execution_count": 43,
   "id": "8be3255d",
   "metadata": {},
   "outputs": [
    {
     "data": {
      "text/plain": [
       "11"
      ]
     },
     "execution_count": 43,
     "metadata": {},
     "output_type": "execute_result"
    }
   ],
   "source": [
    "a7=open('C:\\\\Users\\\\Masum Mazid\\\\Python-Ally\\\\test.txt','w')\n",
    "\n",
    "a7.write(\"Hello World\")"
   ]
  },
  {
   "cell_type": "markdown",
   "id": "b15fb8a3",
   "metadata": {},
   "source": [
    "9.Write a function called myfunc that prints the string 'Hello World'.\n"
   ]
  },
  {
   "cell_type": "code",
   "execution_count": 44,
   "id": "56fb822e",
   "metadata": {},
   "outputs": [
    {
     "name": "stdout",
     "output_type": "stream",
     "text": [
      "Hello World\n"
     ]
    }
   ],
   "source": [
    "def myfunc():\n",
    "    print(\"Hello World\")\n",
    "myfunc()"
   ]
  },
  {
   "cell_type": "markdown",
   "id": "f4cef69f",
   "metadata": {},
   "source": [
    " 10.Define a function called myfunc that takes in a name, and prints 'Hello Name‘\n"
   ]
  },
  {
   "cell_type": "code",
   "execution_count": 45,
   "id": "18173634",
   "metadata": {},
   "outputs": [
    {
     "name": "stdout",
     "output_type": "stream",
     "text": [
      "Hello World\n"
     ]
    }
   ],
   "source": [
    "a9=\"name\"\n",
    "def myfunc(a9):\n",
    "    print(\"Hello World\")\n",
    "myfunc(a9)"
   ]
  },
  {
   "cell_type": "markdown",
   "id": "fc348db8",
   "metadata": {},
   "source": [
    "11.Define a function called myfunc that takes in a Boolean value (True or False). If True, return 'Hello', and if False, return 'Goodbye‘\n"
   ]
  },
  {
   "cell_type": "code",
   "execution_count": 49,
   "id": "e55a4c40",
   "metadata": {},
   "outputs": [
    {
     "name": "stdout",
     "output_type": "stream",
     "text": [
      "Hello World\n",
      "Goodbye\n"
     ]
    }
   ],
   "source": [
    "a10=9>3\n",
    "a10_1=9<3\n",
    "def myfunc(a10):\n",
    "    if(a10):\n",
    "        print(\"Hello World\")\n",
    "    else:\n",
    "        print(\"Goodbye\") \n",
    "myfunc(a10)\n",
    "myfunc(a10_1)"
   ]
  },
  {
   "cell_type": "markdown",
   "id": "e3b57762",
   "metadata": {},
   "source": [
    "12.Define a function called myfunc that takes three arguments, x, y and z.If z is True, return x.  If z is False, return y.\n"
   ]
  },
  {
   "cell_type": "code",
   "execution_count": 59,
   "id": "856f3994",
   "metadata": {},
   "outputs": [
    {
     "data": {
      "text/plain": [
       "'y'"
      ]
     },
     "execution_count": 59,
     "metadata": {},
     "output_type": "execute_result"
    }
   ],
   "source": [
    "z=True\n",
    "x=\"x\"\n",
    "y=\"y\"\n",
    "def myfunc(z,x,y):\n",
    "    if(z):\n",
    "        return x\n",
    "    else:\n",
    "        return y\n",
    "    \n",
    "myfunc(z,x,y)\n",
    "\n",
    "z=False\n",
    "myfunc(z,x,y)\n"
   ]
  },
  {
   "cell_type": "markdown",
   "id": "a66dca95",
   "metadata": {},
   "source": [
    "13.Define a function called myfunc that takes in two arguments and returns their sum.\n",
    "\n"
   ]
  },
  {
   "cell_type": "code",
   "execution_count": 58,
   "id": "a140dba4",
   "metadata": {},
   "outputs": [
    {
     "data": {
      "text/plain": [
       "10"
      ]
     },
     "execution_count": 58,
     "metadata": {},
     "output_type": "execute_result"
    }
   ],
   "source": [
    "def myfunc (x,y):\n",
    "    return x+ y\n",
    "myfunc(4,6)"
   ]
  },
  {
   "cell_type": "markdown",
   "id": "47fa885d",
   "metadata": {},
   "source": [
    "14.Define a function called is_even that takes in one argument, and returns True if the passed-in value is even, False if it is not.\n"
   ]
  },
  {
   "cell_type": "code",
   "execution_count": 61,
   "id": "83d14dcd",
   "metadata": {},
   "outputs": [
    {
     "data": {
      "text/plain": [
       "True"
      ]
     },
     "execution_count": 61,
     "metadata": {},
     "output_type": "execute_result"
    }
   ],
   "source": [
    "def is_even(x):\n",
    "    if(x%2==0):\n",
    "        return True\n",
    "    else:\n",
    "        return False\n",
    "is_even(2)"
   ]
  },
  {
   "cell_type": "markdown",
   "id": "ef71346b",
   "metadata": {},
   "source": [
    "15.Define a function called is_greater that takes in two arguments, and returns True if the first value is greater than the second, False if it is less than or equal to the second.\n"
   ]
  },
  {
   "cell_type": "code",
   "execution_count": null,
   "id": "3d248d94",
   "metadata": {},
   "outputs": [],
   "source": [
    "def is_greater(a, b):\n",
    "    if a > b:\n",
    "        return True\n",
    "    else:\n",
    "        return False"
   ]
  },
  {
   "cell_type": "markdown",
   "id": "e743cac2",
   "metadata": {},
   "source": [
    "16.Define a function called myfunc that takes in an arbitrary number of arguments, and returns the sum of those arguments.\n"
   ]
  },
  {
   "cell_type": "code",
   "execution_count": 68,
   "id": "640e8659",
   "metadata": {},
   "outputs": [
    {
     "data": {
      "text/plain": [
       "2602"
      ]
     },
     "execution_count": 68,
     "metadata": {},
     "output_type": "execute_result"
    }
   ],
   "source": [
    "def myfunc(*args):\n",
    "    total=0\n",
    "    for arg in args:\n",
    "        total=total+arg\n",
    "    return total\n",
    "myfunc(284,874,237,77,965,56,85,24)"
   ]
  },
  {
   "cell_type": "markdown",
   "id": "06c6f761",
   "metadata": {},
   "source": [
    "17.Define a function called myfunc that takes in an arbitrary number of arguments, and returns a list containing only those arguments that are even.\n"
   ]
  },
  {
   "cell_type": "code",
   "execution_count": 66,
   "id": "6041bbae",
   "metadata": {},
   "outputs": [
    {
     "data": {
      "text/plain": [
       "[284, 874, 56, 24]"
      ]
     },
     "execution_count": 66,
     "metadata": {},
     "output_type": "execute_result"
    }
   ],
   "source": [
    "def myfunc(*args):\n",
    "    result = []\n",
    "    for arg in args:\n",
    "        if arg % 2 == 0:\n",
    "            result.append(arg)\n",
    "    return result\n",
    "myfunc(284,874,237,77,965,56,85,24)"
   ]
  },
  {
   "cell_type": "markdown",
   "id": "c83101eb",
   "metadata": {},
   "source": [
    "18.Define a function called myfunc that takes in a string, and returns a matching string where every even letter is uppercase, and every odd letter is lowercase. Assume that the incoming string only contains letters, and don't worry about numbers, spaces or punctuation. The output string can start with either an uppercase or lowercase letter, so long as letters alternate throughout the string.\n"
   ]
  },
  {
   "cell_type": "code",
   "execution_count": 65,
   "id": "9930d7ff",
   "metadata": {},
   "outputs": [
    {
     "data": {
      "text/plain": [
       "'ThE EnD'"
      ]
     },
     "execution_count": 65,
     "metadata": {},
     "output_type": "execute_result"
    }
   ],
   "source": [
    "def myfunc(a18):\n",
    "    result = \"\"\n",
    "    for i in range(len(a18)):\n",
    "        if i % 2 == 0:\n",
    "            result += a18[i].upper()\n",
    "        else:\n",
    "            result += a18[i].lower()\n",
    "    return result\n",
    "myfunc(\"the end\")"
   ]
  },
  {
   "cell_type": "markdown",
   "id": "6d61fd92",
   "metadata": {},
   "source": [
    "EXERCISES"
   ]
  }
 ],
 "metadata": {
  "kernelspec": {
   "display_name": "Python 3 (ipykernel)",
   "language": "python",
   "name": "python3"
  },
  "language_info": {
   "codemirror_mode": {
    "name": "ipython",
    "version": 3
   },
   "file_extension": ".py",
   "mimetype": "text/x-python",
   "name": "python",
   "nbconvert_exporter": "python",
   "pygments_lexer": "ipython3",
   "version": "3.9.13"
  }
 },
 "nbformat": 4,
 "nbformat_minor": 5
}
